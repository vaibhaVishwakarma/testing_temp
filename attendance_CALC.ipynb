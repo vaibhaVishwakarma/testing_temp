{
 "cells": [
  {
   "cell_type": "code",
   "execution_count": 27,
   "metadata": {},
   "outputs": [],
   "source": [
    "def absent ():\n",
    "    dates = []\n",
    "    print('ENTER ALL ABSENT DAYS')\n",
    "    choice = input('YES / NO ').lower()\n",
    "    while choice in ['y','yes'] :\n",
    "        d = int(input('enter day : '.upper()))\n",
    "        m = int(input('enter month : '.upper()))\n",
    "        dates.append((d,m))\n",
    "        choice = input('YES / NO ').lower()\n",
    "    return dates\n",
    "def instdays():\n",
    "    dates = []\n",
    "    print('ENTER ALL INTRUCTIONAL DAYS')\n",
    "    choice = input('YES / NO ').lower()\n",
    "    while choice in ['y','yes'] :\n",
    "        d = int(input('enter day : '.upper()))\n",
    "        m = int(input('enter month : '.upper()))\n",
    "        dates.append((d,m))\n",
    "        choice = input('YES / NO ').lower()\n",
    "    return dates\n",
    "def holidays ():\n",
    "    dates = []\n",
    "    print('ENTER ALL HOLIDAY DAYS')\n",
    "    choice = input('YES / NO ').lower()\n",
    "    while choice in ['y','yes'] :\n",
    "        d = int(input('enter day : '.upper()))\n",
    "        m = int(input('enter month : '.upper()))\n",
    "        dates.append((d,m))\n",
    "        choice = input('YES / NO ').lower()\n",
    "    return dates\n",
    "\n",
    "\n",
    "class ll:\n",
    "    def __init__(self,val=None,node=None):\n",
    "        self.val = val\n",
    "        self.next = node\n",
    "# defining days ,  SEM START DATE , SEM END DATE\n",
    "days_list = ['mon','tue','wed','thu','fri','sat','sun']\n",
    "sd = list(map(int,input('sem start date (date , month ').split(',')))\n",
    "sd.append(input('sem start DAY !! : ').lower())\n",
    "ed =  list(map(int,input('sem end date (date month)').split(',')))\n",
    "\n",
    "days_loop = ll(days_list[0])\n",
    "ptr = days_loop\n",
    "for i in range(1,len(days_list)):\n",
    "    ptr.next=ll(days_list[i])\n",
    "    ptr = ptr.next\n",
    "else:\n",
    "    ptr.next = days_loop\n",
    "    ptr = days_loop\n",
    "# defining SUBJECTS AND SCHEDULES \n",
    "subject = list(map(str.strip, list((input(\"enter all subjects with commas , : \").split(',')))))\n",
    "\n",
    "schedule = { # contains INDEX value of subjects \n",
    "    k:list(map(int,input(f'list of subjects {list(enumerate(subject))} \\n enter the number class on {k} :'.upper()).split(','))) for k in days_list\n",
    "}\n",
    "\n",
    "\n",
    "# entering all instructional , holiday , absent days  in all ( day , month format)\n",
    "####     =============> inst , holi , abd  = instdays() , holidays() , absent()\n",
    "\n",
    "#total days in each month\n",
    "totaldays={\n",
    "    1:31,\n",
    "    2:29,     #leapyear 2024\n",
    "    3:31,\n",
    "    4:30,\n",
    "    5:31,\n",
    "    6:30,\n",
    "    7:31\n",
    "}\n",
    "\n",
    "\n"
   ]
  },
  {
   "cell_type": "code",
   "execution_count": 30,
   "metadata": {},
   "outputs": [
    {
     "ename": "AttributeError",
     "evalue": "'str' object has no attribute 'val'",
     "output_type": "error",
     "traceback": [
      "\u001b[1;31m---------------------------------------------------------------------------\u001b[0m",
      "\u001b[1;31mAttributeError\u001b[0m                            Traceback (most recent call last)",
      "Cell \u001b[1;32mIn[30], line 29\u001b[0m\n\u001b[0;32m     27\u001b[0m     ddmmday\u001b[38;5;241m.\u001b[39mappend(cday)\n\u001b[0;32m     28\u001b[0m     ptr \u001b[38;5;241m=\u001b[39m ptr\u001b[38;5;241m.\u001b[39mnext\n\u001b[1;32m---> 29\u001b[0m     cday \u001b[38;5;241m=\u001b[39m \u001b[43mnext_date\u001b[49m\u001b[43m(\u001b[49m\u001b[43mcday\u001b[49m\u001b[43m)\u001b[49m\n\u001b[0;32m     32\u001b[0m \u001b[38;5;66;03m#total working days \u001b[39;00m\n\u001b[0;32m     33\u001b[0m \n\u001b[0;32m     34\u001b[0m             \u001b[38;5;66;03m#function to determine if current date is working or not \u001b[39;00m\n",
      "Cell \u001b[1;32mIn[30], line 8\u001b[0m, in \u001b[0;36mnext_date\u001b[1;34m(tupl)\u001b[0m\n\u001b[0;32m      6\u001b[0m t1  \u001b[38;5;241m=\u001b[39m totaldays[m1]\n\u001b[0;32m      7\u001b[0m \u001b[38;5;28;01mif\u001b[39;00m d1 \u001b[38;5;241m<\u001b[39m t1 :\n\u001b[1;32m----> 8\u001b[0m     \u001b[38;5;28;01mreturn\u001b[39;00m d1\u001b[38;5;241m+\u001b[39m\u001b[38;5;241m1\u001b[39m , m1 , \u001b[43mptr\u001b[49m\u001b[38;5;241;43m.\u001b[39;49m\u001b[43mval\u001b[49m\n\u001b[0;32m      9\u001b[0m \u001b[38;5;28;01melif\u001b[39;00m d1 \u001b[38;5;241m==\u001b[39m t1 :\n\u001b[0;32m     10\u001b[0m     \u001b[38;5;28;01mreturn\u001b[39;00m \u001b[38;5;241m1\u001b[39m, m1\u001b[38;5;241m+\u001b[39m\u001b[38;5;241m1\u001b[39m , ptr\u001b[38;5;241m.\u001b[39mval\n",
      "\u001b[1;31mAttributeError\u001b[0m: 'str' object has no attribute 'val'"
     ]
    }
   ],
   "source": [
    "\n",
    "#returns next date \n",
    "def next_date(tupl):\n",
    "    global totaldays\n",
    "    ptr , *tup= tupl[::-1]\n",
    "    d1 , m1 = tup\n",
    "    t1  = totaldays[m1]\n",
    "    if d1 < t1 :\n",
    "        return d1+1 , m1 , ptr\n",
    "    elif d1 == t1 :\n",
    "        return 1, m1+1 , ptr\n",
    "    else :\n",
    "        print('wrong date')\n",
    "ddmmday = []\n",
    "cday = sd\n",
    "ptr = days_loop\n",
    "def right_day_loop(pointer,day):\n",
    "    while True :\n",
    "        if pointer.val == day :\n",
    "            return pointer\n",
    "        pointer = pointer.next\n",
    "dayp = right_day_loop(ptr,cday[2])\n",
    "\n",
    "while True :\n",
    "    if cday[:2] == ed :\n",
    "        ddmmday.append((cday[:1],dayp.val))\n",
    "        break\n",
    "    ddmmday.append((cday[:1],dayp.val))\n",
    "    dayp = dayp.next\n",
    "    cday = next_date(cday)\n",
    "\n",
    "\n",
    "#total working days \n",
    "\n",
    "            #function to determine if current date is working or not \n",
    "\n",
    "\n",
    "\n",
    "\n"
   ]
  },
  {
   "cell_type": "code",
   "execution_count": 20,
   "metadata": {},
   "outputs": [],
   "source": [
    "def next_date(tupl):\n",
    "    global totaldays\n",
    "    ptr , *tup= tupl[::-1]\n",
    "    d1 , m1 = tup\n",
    "    t1  = totaldays[m1]\n",
    "    if d1 < t1 :\n",
    "        return d1+1 , m1 , ptr.val\n",
    "    elif d1 == t1 :\n",
    "        return 1, m1+1 , ptr.val\n",
    "    else :\n",
    "        print('wrong date')"
   ]
  },
  {
   "cell_type": "code",
   "execution_count": 23,
   "metadata": {},
   "outputs": [
    {
     "data": {
      "text/plain": [
       "(3, 2, 'mon')"
      ]
     },
     "execution_count": 23,
     "metadata": {},
     "output_type": "execute_result"
    }
   ],
   "source": [
    "next_date([2,2,ptr])"
   ]
  },
  {
   "cell_type": "code",
   "execution_count": 29,
   "metadata": {},
   "outputs": [
    {
     "name": "stdout",
     "output_type": "stream",
     "text": [
      "mon\n",
      "tue\n",
      "wed\n",
      "thu\n",
      "fri\n",
      "sat\n",
      "sun\n",
      "mon\n",
      "tue\n",
      "wed\n",
      "thu\n",
      "fri\n",
      "sat\n",
      "sun\n",
      "mon\n",
      "tue\n",
      "wed\n",
      "thu\n",
      "fri\n",
      "sat\n"
     ]
    }
   ],
   "source": [
    "ptr = days_loop\n",
    "for i in range(20):\n",
    "    print(ptr.val)\n",
    "    ptr=ptr.next"
   ]
  },
  {
   "cell_type": "code",
   "execution_count": null,
   "metadata": {},
   "outputs": [],
   "source": []
  }
 ],
 "metadata": {
  "kernelspec": {
   "display_name": "Python 3",
   "language": "python",
   "name": "python3"
  },
  "language_info": {
   "codemirror_mode": {
    "name": "ipython",
    "version": 3
   },
   "file_extension": ".py",
   "mimetype": "text/x-python",
   "name": "python",
   "nbconvert_exporter": "python",
   "pygments_lexer": "ipython3",
   "version": "3.12.1"
  }
 },
 "nbformat": 4,
 "nbformat_minor": 2
}
